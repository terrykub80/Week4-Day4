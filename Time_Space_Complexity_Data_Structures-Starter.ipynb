{
 "cells": [
  {
   "cell_type": "code",
   "execution_count": 30,
   "metadata": {},
   "outputs": [],
   "source": [
    "def lines():\n",
    "    print((\"=\"*75))"
   ]
  },
  {
   "cell_type": "markdown",
   "metadata": {},
   "source": [
    "# Time/Space Complexity - Intro to Data Structures (User Defined)\n",
    "\n",
    "### Topics to discuss today:\n",
    "\n",
    "<ul>\n",
    "    <li>Time and Space Complexity - What is it/How do we measure it</li>\n",
    "    <li>Asymptotic Analysis</li>\n",
    "    <li><strong>Data Structures</strong></li>\n",
    "    <li>Some of the popular sorting algorithms</li>\n",
    "</ul>\n",
    "\n",
    "### Data Structures to discuss:\n",
    "- Arrays\n",
    "- Stacks\n",
    "- Queues\n",
    "- Linked Lists\n",
    "    - Singly Linked Lists\n",
    "    - Traversing A Linked List\n",
    "    - Finding a node in a linked list\n",
    "    - Adding to a linked list\n",
    "- Binary Search Trees\n",
    "    - Construction\n",
    "    - Traversal\n"
   ]
  },
  {
   "cell_type": "markdown",
   "metadata": {},
   "source": [
    "## Time and Space Complexity\n",
    "\n",
    "#### What is it?\n",
    "\n",
    "Time and space complexity is the measure of how much time a given action(function) will take to solve a problem. In the same fashion, we determine how much a given data structure will need in terms of memory allocation. A problem can have multiple solutions and finding the optimal solution for the problem needs to be analyzed in time and space.\n",
    "\n",
    "#### How do we measure Time and Space Complexity?\n",
    "\n",
    "In order to measure time and space complexity we use Asymptotic analysis. The reason for this is because we need a way to measure different algorithms (functions) based on the size of their inputs in a mathmatical way. For example, we could have a function that is computed as f(n) and another that is g(n^2). All things around the function staying constant, the only thing that changes is the size of the input. Below is the chart that shows the different Asymptotic analysis formats. "
   ]
  },
  {
   "cell_type": "markdown",
   "metadata": {},
   "source": [
    "<table style=\"text-align:center;\" class=\"table table-bordered\">\n",
    "<tbody><tr>\n",
    "<td>constant</td>\n",
    "<td>−</td>\n",
    "<td>Ο(1)</td>\n",
    "</tr>\n",
    "<tr>\n",
    "<td>logarithmic</td>\n",
    "<td>−</td>\n",
    "<td>Ο(log n)</td>\n",
    "</tr>\n",
    "<tr>\n",
    "<td>linear</td>\n",
    "<td>−</td>\n",
    "<td>Ο(n)</td>\n",
    "</tr>\n",
    "<tr>\n",
    "<td>Linear Logarithmic</td>\n",
    "<td>−</td>\n",
    "<td>Ο(n log n)</td>\n",
    "</tr>\n",
    "<tr>\n",
    "<td>quadratic</td>\n",
    "<td>−</td>\n",
    "<td>Ο(n<sup>2</sup>)</td>\n",
    "</tr>\n",
    "<tr>\n",
    "<td>cubic</td>\n",
    "<td>−</td>\n",
    "<td>Ο(n<sup>3</sup>)</td>\n",
    "</tr>\n",
    "<tr>\n",
    "<td>polynomial</td>\n",
    "<td>−</td>\n",
    "<td>n<sup>Ο(1)</sup></td>\n",
    "</tr>\n",
    "<tr>\n",
    "<td>exponential</td>\n",
    "<td>−</td>\n",
    "<td>2<sup>Ο(n)</sup></td>\n",
    "</tr>\n",
    "</tbody></table>"
   ]
  },
  {
   "cell_type": "markdown",
   "metadata": {},
   "source": [
    "## Arrays"
   ]
  },
  {
   "cell_type": "markdown",
   "metadata": {},
   "source": [
    "In python we benefit from the dynamic array which means the block of memory will expand as needed for the given input to the array. In traditional arrays (depending on the type of operating system) we will usually store our inputs in 4 or 8 consecutive blocks of memory. "
   ]
  },
  {
   "cell_type": "markdown",
   "metadata": {},
   "source": [
    "## Which in python looks like this:"
   ]
  },
  {
   "cell_type": "code",
   "execution_count": 1,
   "metadata": {},
   "outputs": [
    {
     "name": "stdout",
     "output_type": "stream",
     "text": [
      "[23, 45, 345, 623, 263]\n"
     ]
    }
   ],
   "source": [
    "array = [23, 45, 345, 623, 263]\n",
    "\n",
    "print(array)"
   ]
  },
  {
   "cell_type": "code",
   "execution_count": 2,
   "metadata": {},
   "outputs": [
    {
     "name": "stdout",
     "output_type": "stream",
     "text": [
      "[23, 45, 345, 623, 263, 0, 1, 2, 3, 4, 5, 6, 7, 8, 9]\n"
     ]
    }
   ],
   "source": [
    "for i in range(10):\n",
    "    array.append(i)\n",
    "    \n",
    "print(array)"
   ]
  },
  {
   "cell_type": "code",
   "execution_count": 3,
   "metadata": {},
   "outputs": [
    {
     "name": "stdout",
     "output_type": "stream",
     "text": [
      "[1, 2, 3, 4, 5, 6, 7, 8, 9, 10]\n",
      "[1, 2, 3, 4, 5, 6, 7, 8, 9, 10]\n"
     ]
    }
   ],
   "source": [
    "list_of_10 = []\n",
    "for i in range(1,11):\n",
    "    list_of_10.append(i)\n",
    "\n",
    "comp_of_10 = [i for i in range(1,11)]\n",
    "\n",
    "print(list_of_10)\n",
    "print(comp_of_10)"
   ]
  },
  {
   "cell_type": "markdown",
   "metadata": {},
   "source": [
    "### Let's take a look at some of the time and space analysis of arrays"
   ]
  },
  {
   "cell_type": "code",
   "execution_count": 5,
   "metadata": {},
   "outputs": [
    {
     "name": "stdout",
     "output_type": "stream",
     "text": [
      "23\n"
     ]
    }
   ],
   "source": [
    "# Indexing a list\n",
    "# Contanst Time and Space - O(1)\n",
    "\n",
    "indexing = array[0]\n",
    "print(indexing)\n",
    "\n"
   ]
  },
  {
   "cell_type": "code",
   "execution_count": 7,
   "metadata": {},
   "outputs": [
    {
     "name": "stdout",
     "output_type": "stream",
     "text": [
      "True\n"
     ]
    }
   ],
   "source": [
    "# Searching through an array\n",
    "# Linear Time - O(n) and Constant Space - O(1)\n",
    "\n",
    "print(263 in array)"
   ]
  },
  {
   "cell_type": "code",
   "execution_count": 9,
   "metadata": {},
   "outputs": [
    {
     "name": "stdout",
     "output_type": "stream",
     "text": [
      "[23, 45, 345, 623, 263, 0, 1, 2, 3, 4, 5, 6, 7, 8, 9]\n"
     ]
    }
   ],
   "source": [
    "# Copy a List\n",
    "# Linear Time AND Linear Space - O(n)\n",
    "\n",
    "copied_array = array[:]\n",
    "print(copied_array)"
   ]
  },
  {
   "cell_type": "code",
   "execution_count": 10,
   "metadata": {},
   "outputs": [
    {
     "name": "stdout",
     "output_type": "stream",
     "text": [
      "[23, 45, 54, 623, 263, 0, 1, 2, 3, 4, 5, 6, 7, 8, 9]\n"
     ]
    }
   ],
   "source": [
    "# Assigning an index value to a list\n",
    "# Constant Time and Space - O(1)\n",
    "\n",
    "array[2] = 54\n",
    "print(array)"
   ]
  },
  {
   "cell_type": "code",
   "execution_count": 11,
   "metadata": {},
   "outputs": [
    {
     "name": "stdout",
     "output_type": "stream",
     "text": [
      "0\n",
      "0\n",
      "0\n",
      "0\n",
      "0\n",
      "0\n",
      "1\n",
      "4\n",
      "9\n",
      "16\n",
      "0\n",
      "4\n",
      "16\n",
      "36\n",
      "64\n",
      "0\n",
      "9\n",
      "36\n",
      "81\n",
      "144\n",
      "0\n",
      "16\n",
      "64\n",
      "144\n",
      "256\n"
     ]
    },
    {
     "data": {
      "text/plain": [
       "[0, 1, 4, 9, 16]"
      ]
     },
     "execution_count": 11,
     "metadata": {},
     "output_type": "execute_result"
    }
   ],
   "source": [
    "def some_func(arr):\n",
    "    for x in range(len(arr)):  # O(n) - Linear Time\n",
    "        arr[x] = x**2          # O(1) - Constant Time\n",
    "    for i in arr:              # O(n) - Linear Time\n",
    "        for j in arr:          # O(n) - Linear Time\n",
    "            print(i*j)         # O(1) - Constant Time\n",
    "    return arr                 # O(1) - Constant Time\n",
    "\n",
    "some_func([1,2,3,4,5])    # O(n) * O(1) + O(n) * O(n) * O(1) + O(1)    =>  Use above times to create formula\n",
    "                          # O(n) + O(n**2) + O(1)                             \n",
    "                          # O(n**2)                                    => Drop constanst and lower order times"
   ]
  },
  {
   "cell_type": "markdown",
   "metadata": {},
   "source": [
    "## Stacks and Queues (Review)\n",
    "\n",
    "** Stacks ** as the name suggests is a data structure that allows for data to follow the Last In First Out priciple(LIFO). Think of a stack of pancakes for example. To get the first pancake you would  start with the top and go down.\n",
    "\n",
    "##### Searching through a stack will be Linear Time O(n) - Constant Space O(1)\n",
    "##### Selecting the first item will be done in Linear Time O(n) - Constant Space O(1)\n",
    "##### Selecting the last item will be done in Constant Time O(1) - Constant Space O(1)\n",
    "##### Adding to the stack will be done in Constant Time O(1) - Constant Space O(1)\n",
    "\n",
    "** Queues ** are similar but in this case follow the First In First Out principle(FIFO). Think of this as a checkout line. The first person in line is the first one out.\n",
    "\n",
    "##### Searching through a queue will be Linear Time O(n) - Constant Space O(1)\n",
    "##### Selecting the first item will be done in Constant Time O(1) - Constant Space O(1)\n",
    "##### Selecting the last item will be done in Linear Time O(n) - Constant Space O(1)\n",
    "##### Adding to the queue should take Constant Time O(1) - Constant Space O(1)"
   ]
  },
  {
   "cell_type": "code",
   "execution_count": 24,
   "metadata": {
    "scrolled": true
   },
   "outputs": [
    {
     "name": "stdout",
     "output_type": "stream",
     "text": [
      "Stack\n",
      "deque([10, 20, 30, 40, 50])\n",
      "<class 'collections.deque'>\n",
      "50\n",
      "40\n",
      "30\n",
      "20\n",
      "10\n"
     ]
    }
   ],
   "source": [
    "# https://docs.python.org/3/library/collections.html#collections.deque\n",
    "\n",
    "from collections import deque\n",
    "\n",
    "print(\"Stack\")\n",
    "\n",
    "stack = deque([10, 20, 30])\n",
    "\n",
    "stack.append(40)\n",
    "stack.append(50)\n",
    "\n",
    "print(stack)\n",
    "print(type(stack))\n",
    "\n",
    "while stack:\n",
    "    print(stack.pop())"
   ]
  },
  {
   "cell_type": "code",
   "execution_count": 27,
   "metadata": {},
   "outputs": [
    {
     "name": "stdout",
     "output_type": "stream",
     "text": [
      "QUEUE\n",
      "deque(['Dave', 'Bob', 'Allison', 'Frank', 'Sarah'])\n",
      "<class 'collections.deque'>\n",
      "Dave\n",
      "Bob\n",
      "Allison\n",
      "Frank\n",
      "Sarah\n"
     ]
    }
   ],
   "source": [
    "print(\"QUEUE\")\n",
    "\n",
    "queue = deque([])\n",
    "\n",
    "queue.append('Dave')\n",
    "queue.append('Bob')\n",
    "queue.append('Allison')\n",
    "queue.append('Frank')\n",
    "queue.append('Sarah')\n",
    "\n",
    "print(queue)\n",
    "print(type(queue))\n",
    "\n",
    "while queue:\n",
    "    print(queue.popleft())\n"
   ]
  },
  {
   "cell_type": "markdown",
   "metadata": {},
   "source": [
    "## Linked List (Data Structure)\n",
    "\n",
    "A linked list is created by using the node class. We create a Node object and create another class to use this node object. We pass the appropriate values thorugh the node object to point the to the next data elements.\n",
    "\n",
    "There are some advantages and disadvantages with this data structure. **Advantages** Linked Lists can save memory because they can be flexibile with memory management which saves memory. **Disadvantages** Finding or adding to the list requires traversing the entire list."
   ]
  },
  {
   "cell_type": "code",
   "execution_count": 33,
   "metadata": {},
   "outputs": [
    {
     "name": "stdout",
     "output_type": "stream",
     "text": [
      "Monday\n",
      "Tuesday\n",
      "Wednesday\n",
      "===========================================================================\n",
      "Monday\n",
      "Tuesday\n",
      "Wednesday\n"
     ]
    }
   ],
   "source": [
    "class LinkedListNode:\n",
    "    \n",
    "    def __init__(self, value):\n",
    "        self.value = value\n",
    "        self.next = None\n",
    "        \n",
    "    def transverse_list(self):\n",
    "        node = self\n",
    "        while node is not None:\n",
    "            print(node.value)\n",
    "            node = node.next\n",
    "            \n",
    "node1 = LinkedListNode('Monday')\n",
    "node2 = LinkedListNode('Tuesday')\n",
    "node3 = LinkedListNode('Wednesday')\n",
    "\n",
    "node1.next = node2\n",
    "node2.next = node3\n",
    "\n",
    "\n",
    "print(node1.value)\n",
    "print(node1.next.value)\n",
    "print(node1.next.next.value)\n",
    "\n",
    "lines()\n",
    "\n",
    "node1.transverse_list()"
   ]
  },
  {
   "cell_type": "code",
   "execution_count": 72,
   "metadata": {},
   "outputs": [
    {
     "name": "stdout",
     "output_type": "stream",
     "text": [
      "Wednesday\n",
      "===========================================================================\n",
      "None\n",
      "===========================================================================\n",
      "Monday\n",
      "Wednesday\n",
      "-----\n",
      "Wednesday\n",
      "===========================================================================\n",
      "Monday\n",
      "Wednesday\n",
      "Thursday\n",
      "-----\n",
      "Wednesday\n",
      "-----\n",
      "Thursday\n",
      "===========================================================================\n",
      "Monday\n",
      "Wednesday\n",
      "Thursday\n",
      "Friday\n",
      "===========================================================================\n",
      "Monday\n",
      "Tuesday\n",
      "Wednesday\n",
      "Thursday\n",
      "Friday\n",
      "-----\n",
      "Thursday\n"
     ]
    }
   ],
   "source": [
    "# Complete Implementation of Linked List\n",
    "\n",
    "# 2 Classes - Node Class and Linked List Class\n",
    "\n",
    "class Node:\n",
    "    \n",
    "    def __init__(self, value):\n",
    "        self.value = value\n",
    "        self.next = None\n",
    "        \n",
    "    def __str__(self):\n",
    "        return self.value\n",
    "    \n",
    "    def __repr__(self):\n",
    "        return f\"<{self.value}>\"\n",
    "    \n",
    "\n",
    "class LinkedList:\n",
    "    \n",
    "    def __init__(self):\n",
    "        self.head = None\n",
    "    \n",
    "    #Method that will return a node base on value. Return None if it does not exist\n",
    "    def _get_node(self, value_to_get):\n",
    "        # Start with first node in LinkedList\n",
    "        node_to_check = self.head\n",
    "        while node_to_check is not None:\n",
    "            # If the value of the node is equal to the value_to_get\n",
    "            if node_to_check.value == value_to_get:\n",
    "                # Return that node\n",
    "                return node_to_check\n",
    "            # If not, move to the next node\n",
    "            node_to_check = node_to_check.next\n",
    "        # If the value_to_get isn't found we return None\n",
    "        return None\n",
    "     \n",
    "    # Method to add a new value to the front of the LinkedList\n",
    "    def push_on(self, new_value):\n",
    "        # Create a new node with the value\n",
    "        new_node = Node(new_value)\n",
    "        # Set the next value for our new head Node to the old head Node\n",
    "        new_node.next = self.head\n",
    "        # Set the new_node as the head Node\n",
    "        self.head = new_node\n",
    "        \n",
    "    # Method to add to the end of the Linked list\n",
    "    def append(self, new_value):\n",
    "        # Create a new node with the value\n",
    "        new_node = Node(new_value)\n",
    "        # Check if the Linked List is empty\n",
    "        if self.head is None:\n",
    "            self.head = new_node\n",
    "        # IF it's not empty\n",
    "        else:\n",
    "            # Traverse to the end of the list (aka. the node.next is None)\n",
    "            node = self.head\n",
    "            # While the node has a .next attribute\n",
    "            while node.next is not None:\n",
    "                # Move to the next node\n",
    "                node = node.next\n",
    "            # Set the last node's next attribute to be the new node\n",
    "            node.next = new_node\n",
    "            \n",
    "    # Method to insert Node to our Linked List after a certain Node (by value)\n",
    "    def insert_after(self, prev_value, new_value):\n",
    "        # Get the previous node by its value\n",
    "        prev_node = self._get_node(prev_value)\n",
    "        # Check if the previous node exists\n",
    "        if prev_node is None:\n",
    "            print(f\"{prev_value} is not in the Linked List\")\n",
    "            return None\n",
    "        # Create a new node with the value\n",
    "        new_node = Node(new_value)\n",
    "        # Point new node's next to the previous node's next\n",
    "        new_node.next = prev_node.next\n",
    "        # Point previous node's next to new node\n",
    "        prev_node.next = new_node\n",
    "    \n",
    "    \n",
    "    # Method to print all items in linked list\n",
    "    def traverse_list(self):\n",
    "        # Start at the beginning of the LinkedList\n",
    "        node = self.head\n",
    "        # While the node is not a NoneType (aka. the last node) continue to loop\n",
    "        while node is not None:\n",
    "            # Calls Node classes string method\n",
    "            print(node)\n",
    "            # Set the node to the next node in the LinkedList\n",
    "            node = node.next\n",
    "\n",
    "\n",
    "            \n",
    "weekdays = LinkedList()\n",
    "\n",
    "weekdays.push_on(\"Wednesday\")\n",
    "weekdays.traverse_list()\n",
    "lines()\n",
    "print(weekdays.head.next)\n",
    "lines()\n",
    "weekdays.push_on(\"Monday\")\n",
    "weekdays.traverse_list()\n",
    "print(\"-----\")\n",
    "print(weekdays.head.next)\n",
    "lines()\n",
    "weekdays.append(\"Thursday\")\n",
    "weekdays.traverse_list()\n",
    "print(\"-----\")\n",
    "print(weekdays.head.next)\n",
    "print(\"-----\")\n",
    "print(weekdays.head.next.next)\n",
    "lines()\n",
    "weekdays.append(\"Friday\")\n",
    "weekdays.traverse_list()\n",
    "lines()\n",
    "weekdays.insert_after(\"Monday\", \"Tuesday\")\n",
    "weekdays.traverse_list()\n",
    "print(\"-----\")\n",
    "print(weekdays.head.next.next.next)\n",
    "\n",
    "\n"
   ]
  },
  {
   "cell_type": "code",
   "execution_count": null,
   "metadata": {},
   "outputs": [],
   "source": [
    "import time"
   ]
  },
  {
   "cell_type": "code",
   "execution_count": null,
   "metadata": {},
   "outputs": [],
   "source": [
    "a_linked_list = LinkedList()\n",
    "\n",
    "\n",
    "# Adding a new node the end of the list - O(n) - Linear Time\n",
    "start = time.time()\n",
    "\n",
    "for i in range(1000):\n",
    "    a_linked_list.append(i)\n",
    "\n",
    "end = time.time()\n",
    "\n",
    "print(end - start)\n",
    "\n",
    "# Adding a new node to the beginning of the list - O(1) - Constant Time\n",
    "start = time.time()\n",
    "\n",
    "for i in range(1000):\n",
    "    a_linked_list.push_on(i)\n",
    "\n",
    "end = time.time()\n",
    "\n",
    "print(end - start)"
   ]
  },
  {
   "cell_type": "code",
   "execution_count": null,
   "metadata": {},
   "outputs": [],
   "source": [
    "arr = [1,2,3,4,5]\n",
    "for i in arr:\n",
    "    for j in arr:\n",
    "        print(f\"i is {i} j is {j})"
   ]
  },
  {
   "cell_type": "markdown",
   "metadata": {},
   "source": [
    "## Binary Search Trees"
   ]
  },
  {
   "cell_type": "code",
   "execution_count": 93,
   "metadata": {},
   "outputs": [
    {
     "name": "stdout",
     "output_type": "stream",
     "text": [
      "<50>\n",
      "===========================================================================\n",
      "15\n",
      "19\n",
      "25\n",
      "50\n",
      "75\n",
      "78\n",
      "85\n"
     ]
    }
   ],
   "source": [
    "class BST:\n",
    "    def __init__(self, value):\n",
    "        self.value = value\n",
    "        self.left = None\n",
    "        self.right = None\n",
    "        \n",
    "    def __repr__(self):\n",
    "        return f\"<{self.value}>\"\n",
    "    \n",
    "    # Add new node to the tree\n",
    "    def insert(self, new_value):\n",
    "        # If new value is less than current node's value\n",
    "        if new_value < self.value:\n",
    "            # If the current node has no left subtree\n",
    "            if self.left is None:\n",
    "                # We now found the insertion point\n",
    "                self.left = BST(new_value)\n",
    "            # If we do have a left subtree\n",
    "            else:\n",
    "                self.left.insert(new_value)\n",
    "        # If new value is greater than current node's value\n",
    "        else:\n",
    "            # If we do not have a right subtree\n",
    "            if self.right is None:\n",
    "                # We now found the insertion point\n",
    "                self.right = BST(new_value)\n",
    "            # If we do have a right subtree\n",
    "            else:\n",
    "                self.right.insert(new_value)\n",
    "                \n",
    "    \n",
    "    # Return True or False if value is in treee\n",
    "    def contains(self, target):\n",
    "        # If target is less than current node's value\n",
    "        if target < self.value:\n",
    "            if self.left is None:\n",
    "                return False\n",
    "            else:\n",
    "                return self.left.contains(target)\n",
    "        elif target > self.value:\n",
    "            if self.right is None:\n",
    "                return False\n",
    "            else:\n",
    "                return self.right.contains(target)\n",
    "        else:\n",
    "            return True\n",
    "        \n",
    "    \n",
    "    def get_max_value(self):\n",
    "        if self.right is None:\n",
    "            return f\"The max number is {self.value}\"\n",
    "        else:\n",
    "            return self.right.get_max_value()\n",
    "        \n",
    "    def get_min_value(self):\n",
    "        if self.left is None:\n",
    "            return f\"The min number is {self.value}\"\n",
    "        else:\n",
    "            return self.left.get_min_value()    \n",
    "        \n",
    "    def remove(self, value_to_remove, parent=None):\n",
    "        # Move to the right or left to find the node to delete\n",
    "        if value_to_remove < self.value:\n",
    "            if self.left is not None:\n",
    "                self.left.remove(value_to_remove, self)\n",
    "        elif value_to_remove > self.value:\n",
    "            if self.right is not None:\n",
    "                self.right.remove(value_to_remove, self)\n",
    "        else:\n",
    "            # If the node to delete has both a left and a right (2 children)\n",
    "            if self.left is not None and self. right is not None:\n",
    "                # Find the largest value in the left subtree and copy the value into the current node\n",
    "                self.value = self.left.get_max_value()\n",
    "                # Remove the node from which we copied\n",
    "                self.left.remove(self.value, self)\n",
    "            # If left or right is None but node has no parent -- node has at mose one child\n",
    "            elif parent is None:\n",
    "                # If left is not empty\n",
    "                if self.left is not None:\n",
    "                    # Set our root node to current node's left\n",
    "                    self.value = self.left.value\n",
    "                    self.left = self.left.left\n",
    "                    self.right = self.left.right\n",
    "                elif self.right is not None:\n",
    "                    # Set or root not to current node's right\n",
    "                    self.value = self.right.value\n",
    "                    self.left = self.right.left\n",
    "                    self.right = self.right.right\n",
    "                else:\n",
    "                    self.value = None\n",
    "            # If the node to delete\n",
    "            elif parent.left == self:\n",
    "                if self.left is not None:\n",
    "                    parent.left = self.left\n",
    "                else:\n",
    "                    parent.left = self.right\n",
    "            \n",
    "            elif parent.right == self:\n",
    "                if self.left is not None:\n",
    "                    parent.right = self.left\n",
    "                else:\n",
    "                    parent.right = self.right\n",
    "            \n",
    "            \n",
    "    def inorder(self,root):\n",
    "        if root:\n",
    "            self.inorder(root.left)\n",
    "            print(root.value)\n",
    "            self.inorder(root.right)\n",
    "                    \n",
    "                    \n",
    "tree = BST(50)\n",
    "\n",
    "tree.insert(25)\n",
    "tree.insert(15)\n",
    "tree.insert(75)\n",
    "tree.insert(85)\n",
    "tree.insert(78)\n",
    "tree.insert(19)\n",
    "\n",
    "tree.get_min_value()\n",
    "tree.get_max_value()\n",
    "tree.contains(78)\n",
    "print(tree)\n",
    "lines()\n",
    "tree.inorder(tree)"
   ]
  },
  {
   "cell_type": "code",
   "execution_count": 109,
   "metadata": {},
   "outputs": [
    {
     "name": "stdout",
     "output_type": "stream",
     "text": [
      "75\n",
      "78\n",
      "85\n",
      "50\n",
      "15\n",
      "19\n",
      "25\n"
     ]
    }
   ],
   "source": [
    "def flip_tree(self,root):\n",
    "    if self.left is not None and self.right is not None:\n",
    "        temp_left = self.left\n",
    "        self.left = self.right\n",
    "        self.right = temp_left\n",
    "    elif self.left is not None:\n",
    "        temp_left = self.left\n",
    "        self.left = self.right\n",
    "        self.right = temp_left\n",
    "    else:\n",
    "        temp_left = self.left\n",
    "        self.left = self.right\n",
    "        self.right = temp_left\n",
    "        return tree.inorder(tree)\n",
    "        \n",
    "        \n",
    "\n",
    "flip_tree(tree, 50)\n",
    "\n",
    "tree.inorder(tree)"
   ]
  },
  {
   "cell_type": "markdown",
   "metadata": {},
   "source": [
    "# Homework"
   ]
  },
  {
   "cell_type": "markdown",
   "metadata": {},
   "source": [
    "#### Problem 1: Add a .remove method to the LinkedList\n",
    "\n",
    "Add a method to the LinkedList class to remove a node from the list.\n",
    "\n",
    "The method should take in a string of the value to remove and remove the node with that value from the LinkedList."
   ]
  },
  {
   "cell_type": "code",
   "execution_count": 11,
   "metadata": {},
   "outputs": [
    {
     "ename": "KeyboardInterrupt",
     "evalue": "",
     "output_type": "error",
     "traceback": [
      "\u001b[1;31m---------------------------------------------------------------------------\u001b[0m",
      "\u001b[1;31mKeyboardInterrupt\u001b[0m                         Traceback (most recent call last)",
      "Input \u001b[1;32mIn [11]\u001b[0m, in \u001b[0;36m<cell line: 78>\u001b[1;34m()\u001b[0m\n\u001b[0;32m     75\u001b[0m \u001b[38;5;28;01mfor\u001b[39;00m day \u001b[38;5;129;01min\u001b[39;00m list_of_days:\n\u001b[0;32m     76\u001b[0m     weekdays\u001b[38;5;241m.\u001b[39mappend(day)\n\u001b[1;32m---> 78\u001b[0m \u001b[43mweekdays\u001b[49m\u001b[38;5;241;43m.\u001b[39;49m\u001b[43mremove\u001b[49m\u001b[43m(\u001b[49m\u001b[38;5;124;43m'\u001b[39;49m\u001b[38;5;124;43mWednesday\u001b[39;49m\u001b[38;5;124;43m'\u001b[39;49m\u001b[43m)\u001b[49m\n\u001b[0;32m     80\u001b[0m weekdays\u001b[38;5;241m.\u001b[39mtraverse_list()\n",
      "Input \u001b[1;32mIn [11]\u001b[0m, in \u001b[0;36mLinkedList.remove\u001b[1;34m(self, value_to_remove)\u001b[0m\n\u001b[0;32m     63\u001b[0m     check \u001b[38;5;241m=\u001b[39m check\u001b[38;5;241m.\u001b[39mnext\n\u001b[0;32m     64\u001b[0m \u001b[38;5;28;01melif\u001b[39;00m check\u001b[38;5;241m.\u001b[39mvalue \u001b[38;5;241m==\u001b[39m value_to_remove:\n\u001b[1;32m---> 65\u001b[0m     prev_node\u001b[38;5;241m.\u001b[39mnext \u001b[38;5;241m=\u001b[39m \u001b[43mcheck\u001b[49m\u001b[38;5;241;43m.\u001b[39;49m\u001b[43mnext\u001b[49m\n",
      "\u001b[1;31mKeyboardInterrupt\u001b[0m: "
     ]
    }
   ],
   "source": [
    "class Node:\n",
    "    def __init__(self, value):\n",
    "        self.value = value\n",
    "        self.next = None\n",
    "        \n",
    "    def __str__(self):\n",
    "        return self.value\n",
    "    \n",
    "    def __repr__(self):\n",
    "        return f\"<Node|{self.value}>\"\n",
    "    \n",
    "    \n",
    "class LinkedList:\n",
    "    def __init__(self):\n",
    "        self.head = None\n",
    "        \n",
    "    def _get_node(self, value_to_get):\n",
    "        check = self.head\n",
    "        while check is not None:\n",
    "            if check.value == value_to_get:\n",
    "                return check\n",
    "            check = check.next\n",
    "        return None\n",
    "        \n",
    "    def push_on(self, new_value):\n",
    "        new_node = Node(new_value)\n",
    "        new_node.next = self.head\n",
    "        self.head = new_node\n",
    "        \n",
    "    def append(self, new_value):\n",
    "        new_node = Node(new_value)\n",
    "        \n",
    "        if self.head is None:\n",
    "            self.head = new_node\n",
    "        else:\n",
    "            node = self.head\n",
    "            while node.next is not None:\n",
    "                node = node.next\n",
    "            node.next = new_node\n",
    "            \n",
    "    def insert_after(self, prev_value, new_value):\n",
    "        prev_node = self._get_node(prev_value)\n",
    "        if prev_node is None:\n",
    "            print(f\"{prev_value} is not in linked list\")\n",
    "            return\n",
    "        \n",
    "        new_node = Node(new_value)\n",
    "        new_node.next = prev_node.next\n",
    "        prev_node.next = new_node\n",
    "        \n",
    "    def traverse_list(self):\n",
    "        node = self.head\n",
    "        while node:\n",
    "            print(node) \n",
    "            node = node.next\n",
    "    \n",
    "    def remove(self, value_to_remove):\n",
    "        prev_node = self.head\n",
    "        if prev_node.value == value_to_remove:\n",
    "            self.head = prev_node.next\n",
    "        while prev_node.next is not None:\n",
    "            node_to_check = prev_node.next\n",
    "            if node_to_check.value == value_to_remove:\n",
    "                prev_node.next = node_t\n",
    "#         while check is not None:\n",
    "#             if check.value != value_to_remove:\n",
    "#                 prev_node = check\n",
    "#                 check = check.next\n",
    "#             elif check.value == value_to_remove:\n",
    "#                 prev_node.next = check.next\n",
    "            \n",
    "            \n",
    "            \n",
    "            \n",
    "        \n",
    "            \n",
    "    \n",
    "weekdays = LinkedList()\n",
    "list_of_days = ['Sunday', 'Monday', 'Tuesday', 'Wednesday', 'Thursday', 'Friday', 'Saturday']\n",
    "for day in list_of_days:\n",
    "    weekdays.append(day)\n",
    "\n",
    "weekdays.remove('Wednesday')\n",
    "\n",
    "weekdays.traverse_list()"
   ]
  },
  {
   "cell_type": "code",
   "execution_count": 7,
   "metadata": {},
   "outputs": [
    {
     "ename": "NameError",
     "evalue": "name 'prev_check' is not defined",
     "output_type": "error",
     "traceback": [
      "\u001b[1;31m---------------------------------------------------------------------------\u001b[0m",
      "\u001b[1;31mNameError\u001b[0m                                 Traceback (most recent call last)",
      "Input \u001b[1;32mIn [7]\u001b[0m, in \u001b[0;36m<cell line: 90>\u001b[1;34m()\u001b[0m\n\u001b[0;32m     87\u001b[0m \u001b[38;5;28;01mfor\u001b[39;00m day \u001b[38;5;129;01min\u001b[39;00m list_of_days:\n\u001b[0;32m     88\u001b[0m     weekdays\u001b[38;5;241m.\u001b[39mappend(day)\n\u001b[1;32m---> 90\u001b[0m \u001b[43mweekdays\u001b[49m\u001b[38;5;241;43m.\u001b[39;49m\u001b[43mremove\u001b[49m\u001b[43m(\u001b[49m\u001b[38;5;124;43m'\u001b[39;49m\u001b[38;5;124;43mWednesday\u001b[39;49m\u001b[38;5;124;43m'\u001b[39;49m\u001b[43m)\u001b[49m\n\u001b[0;32m     92\u001b[0m weekdays\u001b[38;5;241m.\u001b[39mtraverse_list()\n",
      "Input \u001b[1;32mIn [7]\u001b[0m, in \u001b[0;36mLinkedList.remove\u001b[1;34m(self, value_to_remove)\u001b[0m\n\u001b[0;32m     57\u001b[0m \u001b[38;5;28;01mdef\u001b[39;00m \u001b[38;5;21mremove\u001b[39m(\u001b[38;5;28mself\u001b[39m, value_to_remove):\n\u001b[1;32m---> 58\u001b[0m     \u001b[43mprev_check\u001b[49m\u001b[38;5;241m.\u001b[39mnext \u001b[38;5;241m=\u001b[39m \u001b[38;5;28;01mNone\u001b[39;00m\n\u001b[0;32m     59\u001b[0m     node_to_check \u001b[38;5;241m=\u001b[39m \u001b[38;5;28mself\u001b[39m\u001b[38;5;241m.\u001b[39mhead\n\u001b[0;32m     60\u001b[0m     temp \u001b[38;5;241m=\u001b[39m \u001b[38;5;28;01mNone\u001b[39;00m\n",
      "\u001b[1;31mNameError\u001b[0m: name 'prev_check' is not defined"
     ]
    }
   ],
   "source": [
    "class Node:\n",
    "    def __init__(self, value):\n",
    "        self.value = value\n",
    "        self.next = None\n",
    "        \n",
    "    def __str__(self):\n",
    "        return self.value\n",
    "    \n",
    "    def __repr__(self):\n",
    "        return f\"<Node|{self.value}>\"\n",
    "    \n",
    "    \n",
    "class LinkedList:\n",
    "    def __init__(self):\n",
    "        self.head = None\n",
    "        \n",
    "    def _get_node(self, value_to_get):\n",
    "        check = self.head\n",
    "        while check is not None:\n",
    "            if check.value == value_to_get:\n",
    "                return check\n",
    "            check = check.next\n",
    "        return None\n",
    "        \n",
    "    def push_on(self, new_value):\n",
    "        new_node = Node(new_value)\n",
    "        new_node.next = self.head\n",
    "        self.head = new_node\n",
    "        \n",
    "    def append(self, new_value):\n",
    "        new_node = Node(new_value)\n",
    "        \n",
    "        if self.head is None:\n",
    "            self.head = new_node\n",
    "        else:\n",
    "            node = self.head\n",
    "            while node.next is not None:\n",
    "                node = node.next\n",
    "            node.next = new_node\n",
    "            \n",
    "    def insert_after(self, prev_value, new_value):\n",
    "        prev_node = self._get_node(prev_value)\n",
    "        if prev_node is None:\n",
    "            print(f\"{prev_value} is not in linked list\")\n",
    "            return\n",
    "        \n",
    "        new_node = Node(new_value)\n",
    "        new_node.next = prev_node.next\n",
    "        prev_node.next = new_node\n",
    "        \n",
    "    def traverse_list(self):\n",
    "        node = self.head\n",
    "        while node:\n",
    "            print(node) \n",
    "            node = node.next\n",
    "    \n",
    "    def remove(self, value_to_remove):\n",
    "        node_to_check.next = None\n",
    "        node_to_check = self.head\n",
    "        temp = None\n",
    "        while node_to_check is not None:\n",
    "            if node_to_check == value_to_remove:\n",
    "                pass\n",
    "            else:\n",
    "                temp = node_to_check\n",
    "                node_to_check = node_to_check.next\n",
    "                node_to_check.next = node_to_check.next.next\n",
    "                prev_check.next = temp\n",
    "\n",
    "        \n",
    "        return weekdays\n",
    "\n",
    "                \n",
    "             \n",
    "\n",
    "            \n",
    "            \n",
    "            \n",
    "            \n",
    "# Find the previous node of the node to be deleted. \n",
    "# Change the next of the previous node. \n",
    "# Free memory for the node to be deleted.        \n",
    "            \n",
    "    \n",
    "weekdays = LinkedList()\n",
    "list_of_days = ['Sunday', 'Monday', 'Tuesday', 'Wednesday', 'Thursday', 'Friday', 'Saturday']\n",
    "for day in list_of_days:\n",
    "    weekdays.append(day)\n",
    "\n",
    "weekdays.remove('Wednesday')\n",
    "\n",
    "weekdays.traverse_list()"
   ]
  }
 ],
 "metadata": {
  "kernelspec": {
   "display_name": "Python 3 (ipykernel)",
   "language": "python",
   "name": "python3"
  },
  "language_info": {
   "codemirror_mode": {
    "name": "ipython",
    "version": 3
   },
   "file_extension": ".py",
   "mimetype": "text/x-python",
   "name": "python",
   "nbconvert_exporter": "python",
   "pygments_lexer": "ipython3",
   "version": "3.9.12"
  }
 },
 "nbformat": 4,
 "nbformat_minor": 2
}
